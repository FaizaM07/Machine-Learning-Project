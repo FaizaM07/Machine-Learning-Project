{
  "metadata": {
    "kernelspec": {
      "language": "python",
      "display_name": "Python 3",
      "name": "python3"
    },
    "language_info": {
      "name": "python",
      "version": "3.10.12",
      "mimetype": "text/x-python",
      "codemirror_mode": {
        "name": "ipython",
        "version": 3
      },
      "pygments_lexer": "ipython3",
      "nbconvert_exporter": "python",
      "file_extension": ".py"
    },
    "kaggle": {
      "accelerator": "none",
      "dataSources": [
        {
          "sourceId": 5441978,
          "sourceType": "datasetVersion",
          "datasetId": 3146821
        }
      ],
      "dockerImageVersionId": 30919,
      "isInternetEnabled": true,
      "language": "python",
      "sourceType": "notebook",
      "isGpuEnabled": false
    },
    "colab": {
      "name": "notebook1bf92a5672",
      "provenance": []
    }
  },
  "nbformat_minor": 0,
  "nbformat": 4,
  "cells": [
    {
      "source": [
        "# IMPORTANT: RUN THIS CELL IN ORDER TO IMPORT YOUR KAGGLE DATA SOURCES,\n",
        "# THEN FEEL FREE TO DELETE THIS CELL.\n",
        "# NOTE: THIS NOTEBOOK ENVIRONMENT DIFFERS FROM KAGGLE'S PYTHON\n",
        "# ENVIRONMENT SO THERE MAY BE MISSING LIBRARIES USED BY YOUR\n",
        "# NOTEBOOK.\n",
        "import kagglehub\n",
        "tushar5harma_plant_village_dataset_updated_path = kagglehub.dataset_download('tushar5harma/plant-village-dataset-updated')\n",
        "\n",
        "print('Data source import complete.')\n"
      ],
      "metadata": {
        "id": "9aMJ8H5M9Q1x"
      },
      "cell_type": "code",
      "outputs": [],
      "execution_count": null
    },
    {
      "cell_type": "code",
      "source": [
        "import tensorflow as tf\n",
        "import matplotlib.pyplot as plt\n",
        "import pandas as pd\n",
        "import seaborn as sns\n",
        "from tensorflow.keras.applications import DenseNet121\n",
        "from tensorflow.keras.layers import Dense, GlobalAveragePooling2D, Dropout\n",
        "from tensorflow.keras.models import Model\n",
        "from tensorflow.keras.applications.densenet import preprocess_input\n",
        "import json\n",
        "from sklearn.metrics import confusion_matrix, classification_report\n"
      ],
      "metadata": {
        "_uuid": "8f2839f25d086af736a60e9eeb907d3b93b6e0e5",
        "_cell_guid": "b1076dfc-b9ad-4769-8c92-a6c4dae69d19",
        "trusted": true,
        "execution": {
          "iopub.status.busy": "2025-03-15T17:40:09.65232Z",
          "iopub.execute_input": "2025-03-15T17:40:09.652516Z",
          "iopub.status.idle": "2025-03-15T17:40:22.46361Z",
          "shell.execute_reply.started": "2025-03-15T17:40:09.652496Z",
          "shell.execute_reply": "2025-03-15T17:40:22.462877Z"
        },
        "id": "Fsfqu2Y_9Q11"
      },
      "outputs": [],
      "execution_count": null
    },
    {
      "cell_type": "code",
      "source": [
        "import tensorflow as tf\n",
        "\n",
        "# Load the validation dataset\n",
        "validation_set = tf.keras.utils.image_dataset_from_directory(\n",
        "    '/kaggle/input/plant-village-dataset-updated',\n",
        "    labels=\"inferred\",\n",
        "    label_mode=\"categorical\",\n",
        "    color_mode=\"rgb\",\n",
        "    batch_size=32,\n",
        "    image_size=(224, 224),  # Adjusting the image size to match DenseNet121 input\n",
        "    shuffle=True,\n",
        "    interpolation=\"bilinear\",\n",
        "    subset=\"validation\",\n",
        "    validation_split=0.2,  # Split data into training and validation\n",
        "    seed=42  # Provide a seed for reproducibility\n",
        ")\n"
      ],
      "metadata": {
        "trusted": true,
        "execution": {
          "iopub.status.busy": "2025-03-15T17:40:53.557693Z",
          "iopub.execute_input": "2025-03-15T17:40:53.558Z",
          "iopub.status.idle": "2025-03-15T17:41:21.165817Z",
          "shell.execute_reply.started": "2025-03-15T17:40:53.557976Z",
          "shell.execute_reply": "2025-03-15T17:41:21.165135Z"
        },
        "id": "U6MLZN_39Q12"
      },
      "outputs": [],
      "execution_count": null
    },
    {
      "cell_type": "code",
      "source": [
        "import tensorflow as tf\n",
        "\n",
        "# Load the training dataset\n",
        "training_set = tf.keras.utils.image_dataset_from_directory(\n",
        "    '/kaggle/input/plant-village-dataset-updated',\n",
        "    labels=\"inferred\",\n",
        "    label_mode=\"categorical\",\n",
        "    color_mode=\"rgb\",\n",
        "    batch_size=32,\n",
        "    image_size=(224, 224),  # Adjusting the image size to match DenseNet121 input\n",
        "    shuffle=True,\n",
        "    interpolation=\"bilinear\",\n",
        "    subset=\"training\",\n",
        "    validation_split=0.2,  # Split data into training and validation\n",
        "    seed=42  # Provide a seed for reproducibility\n",
        ")\n"
      ],
      "metadata": {
        "trusted": true,
        "execution": {
          "iopub.status.busy": "2025-03-15T17:41:59.837478Z",
          "iopub.execute_input": "2025-03-15T17:41:59.837789Z",
          "iopub.status.idle": "2025-03-15T17:42:14.796538Z",
          "shell.execute_reply.started": "2025-03-15T17:41:59.837764Z",
          "shell.execute_reply": "2025-03-15T17:42:14.795867Z"
        },
        "id": "F4KebkBd9Q12"
      },
      "outputs": [],
      "execution_count": null
    },
    {
      "cell_type": "code",
      "source": [
        "from tensorflow.keras.applications.densenet import preprocess_input\n",
        "\n",
        "# Preprocess the datasets to match DenseNet121 input requirements\n",
        "training_set = training_set.map(lambda x, y: (preprocess_input(x), y))\n",
        "validation_set = validation_set.map(lambda x, y: (preprocess_input(x), y))\n"
      ],
      "metadata": {
        "trusted": true,
        "execution": {
          "iopub.status.busy": "2025-03-15T17:42:45.527987Z",
          "iopub.execute_input": "2025-03-15T17:42:45.528302Z",
          "iopub.status.idle": "2025-03-15T17:42:45.557018Z",
          "shell.execute_reply.started": "2025-03-15T17:42:45.528278Z",
          "shell.execute_reply": "2025-03-15T17:42:45.556355Z"
        },
        "id": "_UO0ghpN9Q13"
      },
      "outputs": [],
      "execution_count": null
    },
    {
      "cell_type": "code",
      "source": [
        "from tensorflow.keras.applications import DenseNet121\n",
        "\n",
        "# Load DenseNet121 model without the top classification layer, using ImageNet weights\n",
        "base_model = DenseNet121(weights='imagenet', include_top=False, input_shape=(224, 224, 3))\n"
      ],
      "metadata": {
        "trusted": true,
        "execution": {
          "iopub.status.busy": "2025-03-15T17:43:07.932418Z",
          "iopub.execute_input": "2025-03-15T17:43:07.932716Z",
          "iopub.status.idle": "2025-03-15T17:43:13.027099Z",
          "shell.execute_reply.started": "2025-03-15T17:43:07.932692Z",
          "shell.execute_reply": "2025-03-15T17:43:13.026443Z"
        },
        "id": "zfbwNAWq9Q13"
      },
      "outputs": [],
      "execution_count": null
    },
    {
      "cell_type": "code",
      "source": [
        "# Freeze the base model layers to prevent them from being trained\n",
        "base_model.trainable = False"
      ],
      "metadata": {
        "trusted": true,
        "execution": {
          "iopub.status.busy": "2025-03-15T17:43:22.058768Z",
          "iopub.execute_input": "2025-03-15T17:43:22.059068Z",
          "iopub.status.idle": "2025-03-15T17:43:22.069048Z",
          "shell.execute_reply.started": "2025-03-15T17:43:22.059045Z",
          "shell.execute_reply": "2025-03-15T17:43:22.068177Z"
        },
        "id": "WMiay33P9Q14"
      },
      "outputs": [],
      "execution_count": null
    },
    {
      "cell_type": "markdown",
      "source": [],
      "metadata": {
        "id": "KeKhulAZ9Q14"
      }
    },
    {
      "cell_type": "code",
      "source": [
        "import tensorflow as tf\n",
        "from tensorflow.keras.layers import GlobalAveragePooling2D, Dense, Dropout\n",
        "from tensorflow.keras.applications import DenseNet121\n",
        "\n",
        "# Load DenseNet121 base model\n",
        "base_model = DenseNet121(weights='imagenet', include_top=False, input_shape=(224, 224, 3))\n",
        "\n",
        "# Build the new model on top of the DenseNet121 base\n",
        "model = tf.keras.Sequential([\n",
        "    base_model,\n",
        "    GlobalAveragePooling2D(),\n",
        "    Dense(1024, activation='relu'),\n",
        "    Dropout(0.5),\n",
        "    Dense(9, activation='softmax')  # Adjust this according to your dataset classes\n",
        "])\n"
      ],
      "metadata": {
        "trusted": true,
        "execution": {
          "iopub.status.busy": "2025-03-15T17:44:17.007505Z",
          "iopub.execute_input": "2025-03-15T17:44:17.007864Z",
          "iopub.status.idle": "2025-03-15T17:44:18.866386Z",
          "shell.execute_reply.started": "2025-03-15T17:44:17.007839Z",
          "shell.execute_reply": "2025-03-15T17:44:18.865691Z"
        },
        "id": "jT7dtMzu9Q16"
      },
      "outputs": [],
      "execution_count": null
    },
    {
      "cell_type": "code",
      "source": [
        "from tensorflow.keras.metrics import Precision, Recall, AUC\n",
        "\n",
        "# Compile the DenseNet121 model with additional metrics\n",
        "model.compile(\n",
        "    optimizer=tf.keras.optimizers.Adam(learning_rate=0.0001),\n",
        "    loss='categorical_crossentropy',\n",
        "    metrics=[\n",
        "        'accuracy',           # Standard accuracy\n",
        "        Precision(),          # Precision metric\n",
        "        Recall(),             # Recall metric\n",
        "        AUC(),                # AUC (Area Under Curve)\n",
        "        'TruePositives',      # True positive count\n",
        "        'TrueNegatives',      # True negative count\n",
        "        'FalsePositives',     # False positive count\n",
        "        'FalseNegatives'      # False negative count\n",
        "    ]\n",
        ")\n"
      ],
      "metadata": {
        "trusted": true,
        "execution": {
          "iopub.status.busy": "2025-03-15T17:44:45.270564Z",
          "iopub.execute_input": "2025-03-15T17:44:45.270861Z",
          "iopub.status.idle": "2025-03-15T17:44:45.298383Z",
          "shell.execute_reply.started": "2025-03-15T17:44:45.270839Z",
          "shell.execute_reply": "2025-03-15T17:44:45.297763Z"
        },
        "id": "fsn2zF7h9Q16"
      },
      "outputs": [],
      "execution_count": null
    },
    {
      "cell_type": "code",
      "source": [
        "# Model summary\n",
        "model.summary()"
      ],
      "metadata": {
        "trusted": true,
        "execution": {
          "iopub.status.busy": "2025-03-15T17:44:50.082434Z",
          "iopub.execute_input": "2025-03-15T17:44:50.082727Z",
          "iopub.status.idle": "2025-03-15T17:44:50.108999Z",
          "shell.execute_reply.started": "2025-03-15T17:44:50.082696Z",
          "shell.execute_reply": "2025-03-15T17:44:50.10825Z"
        },
        "id": "yzQO3akt9Q16"
      },
      "outputs": [],
      "execution_count": null
    },
    {
      "cell_type": "code",
      "source": [
        "# Training the model\n",
        "training_history = model.fit(\n",
        "    x=training_set,\n",
        "    validation_data=validation_set,\n",
        "    epochs=10\n",
        ")\n"
      ],
      "metadata": {
        "trusted": true,
        "execution": {
          "iopub.status.busy": "2025-03-15T17:45:08.06902Z",
          "iopub.execute_input": "2025-03-15T17:45:08.069374Z",
          "iopub.status.idle": "2025-03-15T18:47:59.54462Z",
          "shell.execute_reply.started": "2025-03-15T17:45:08.069347Z",
          "shell.execute_reply": "2025-03-15T18:47:59.543898Z"
        },
        "id": "iv7Tfi7a9Q17"
      },
      "outputs": [],
      "execution_count": null
    },
    {
      "cell_type": "code",
      "source": [
        "# Evaluate the model on the training set\n",
        "results = model.evaluate(training_set)\n",
        "\n",
        "# Extracting loss and accuracy along with additional metrics\n",
        "train_loss = results[0]\n",
        "train_acc = results[1]\n",
        "precision = results[2]\n",
        "recall = results[3]\n",
        "auc = results[4]\n",
        "true_positives = results[5]\n",
        "true_negatives = results[6]\n",
        "false_positives = results[7]\n",
        "false_negatives = results[8]\n",
        "\n",
        "# Printing the results\n",
        "print(f'Train Loss: {train_loss}, Train Accuracy: {train_acc}')\n",
        "print(f'Precision: {precision}, Recall: {recall}, AUC: {auc}')\n",
        "print(f'True Positives: {true_positives}, True Negatives: {true_negatives}')\n",
        "print(f'False Positives: {false_positives}, False Negatives: {false_negatives}')\n"
      ],
      "metadata": {
        "trusted": true,
        "execution": {
          "iopub.status.busy": "2025-03-15T18:48:33.430229Z",
          "iopub.execute_input": "2025-03-15T18:48:33.430551Z",
          "iopub.status.idle": "2025-03-15T18:50:55.385701Z",
          "shell.execute_reply.started": "2025-03-15T18:48:33.430525Z",
          "shell.execute_reply": "2025-03-15T18:50:55.384879Z"
        },
        "id": "QMevtiol9Q17"
      },
      "outputs": [],
      "execution_count": null
    },
    {
      "cell_type": "code",
      "source": [
        "# Evaluate the model on the validation set\n",
        "results = model.evaluate(validation_set)\n",
        "\n",
        "# Extracting loss and accuracy along with additional metrics\n",
        "val_loss = results[0]\n",
        "val_acc = results[1]\n",
        "precision = results[2]\n",
        "recall = results[3]\n",
        "auc = results[4]\n",
        "true_positives = results[5]\n",
        "true_negatives = results[6]\n",
        "false_positives = results[7]\n",
        "false_negatives = results[8]\n",
        "\n",
        "# Printing the results\n",
        "print(f'Validation Loss: {val_loss}, Validation Accuracy: {val_acc}')\n",
        "print(f'Precision: {precision}, Recall: {recall}, AUC: {auc}')\n",
        "print(f'True Positives: {true_positives}, True Negatives: {true_negatives}')\n",
        "print(f'False Positives: {false_positives}, False Negatives: {false_negatives}')\n"
      ],
      "metadata": {
        "trusted": true,
        "execution": {
          "iopub.status.busy": "2025-03-15T18:51:23.598036Z",
          "iopub.execute_input": "2025-03-15T18:51:23.598355Z",
          "iopub.status.idle": "2025-03-15T18:51:49.736051Z",
          "shell.execute_reply.started": "2025-03-15T18:51:23.598332Z",
          "shell.execute_reply": "2025-03-15T18:51:49.735407Z"
        },
        "id": "ZIiOOmn29Q17"
      },
      "outputs": [],
      "execution_count": null
    },
    {
      "cell_type": "code",
      "source": [
        "import tensorflow as tf\n",
        "\n",
        "# Load the test dataset from the 'Test' subdirectories of the plant categories\n",
        "test_set = tf.keras.utils.image_dataset_from_directory(\n",
        "    '/kaggle/input/plant-village-dataset-updated',\n",
        "    labels=\"inferred\",\n",
        "    label_mode=\"categorical\",\n",
        "    color_mode=\"rgb\",\n",
        "    batch_size=32,\n",
        "    image_size=(224, 224),  # Adjusting the image size to match DenseNet121 input\n",
        "    shuffle=False,  # Typically, you don't shuffle the test set\n",
        "    interpolation=\"bilinear\",\n",
        ")\n",
        "\n",
        "# Evaluate the model on the test set\n",
        "test_results = model.evaluate(test_set)\n",
        "\n",
        "# Extracting test metrics\n",
        "test_loss = test_results[0]\n",
        "test_acc = test_results[1]\n",
        "test_precision = test_results[2]\n",
        "test_recall = test_results[3]\n",
        "test_auc = test_results[4]\n",
        "test_true_positives = test_results[5]\n",
        "test_true_negatives = test_results[6]\n",
        "test_false_positives = test_results[7]\n",
        "test_false_negatives = test_results[8]\n",
        "\n",
        "# Printing the results for the test set\n",
        "print(f'Test Loss: {test_loss}, Test Accuracy: {test_acc}')\n",
        "print(f'Test Precision: {test_precision}, Test Recall: {test_recall}, Test AUC: {test_auc}')\n",
        "print(f'Test True Positives: {test_true_positives}, Test True Negatives: {test_true_negatives}')\n",
        "print(f'Test False Positives: {test_false_positives}, Test False Negatives: {test_false_negatives}')\n"
      ],
      "metadata": {
        "trusted": true,
        "execution": {
          "iopub.status.busy": "2025-03-15T18:52:07.94071Z",
          "iopub.execute_input": "2025-03-15T18:52:07.941019Z",
          "iopub.status.idle": "2025-03-15T18:54:12.391358Z",
          "shell.execute_reply.started": "2025-03-15T18:52:07.940995Z",
          "shell.execute_reply": "2025-03-15T18:54:12.390611Z"
        },
        "id": "mKcMUT0W9Q17"
      },
      "outputs": [],
      "execution_count": null
    },
    {
      "cell_type": "code",
      "source": [
        "# Save the DenseNet-121 model\n",
        "model.save('plant-village_disease_model_densenet121.keras')\n"
      ],
      "metadata": {
        "trusted": true,
        "execution": {
          "iopub.status.busy": "2025-03-15T18:56:20.379704Z",
          "iopub.execute_input": "2025-03-15T18:56:20.380013Z",
          "iopub.status.idle": "2025-03-15T18:56:22.505606Z",
          "shell.execute_reply.started": "2025-03-15T18:56:20.379989Z",
          "shell.execute_reply": "2025-03-15T18:56:22.504893Z"
        },
        "id": "sLk57Pt59Q18"
      },
      "outputs": [],
      "execution_count": null
    },
    {
      "cell_type": "code",
      "source": [
        "# Save training history to JSON\n",
        "with open('plant-village_densenet121_hist.json', 'w') as f:\n",
        "    json.dump(training_history.history, f)\n"
      ],
      "metadata": {
        "trusted": true,
        "execution": {
          "iopub.status.busy": "2025-03-15T18:57:07.105882Z",
          "iopub.execute_input": "2025-03-15T18:57:07.106195Z",
          "iopub.status.idle": "2025-03-15T18:57:07.111046Z",
          "shell.execute_reply.started": "2025-03-15T18:57:07.10617Z",
          "shell.execute_reply": "2025-03-15T18:57:07.110276Z"
        },
        "id": "Kz2G5AzV9Q18"
      },
      "outputs": [],
      "execution_count": null
    }
  ]
}